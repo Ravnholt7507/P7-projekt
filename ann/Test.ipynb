{
  "nbformat": 4,
  "nbformat_minor": 0,
  "metadata": {
    "colab": {
      "provenance": []
    },
    "kernelspec": {
      "name": "python3",
      "display_name": "Python 3"
    },
    "language_info": {
      "name": "python"
    }
  },
  "cells": [
    {
      "cell_type": "code",
      "source": [
        "import numpy as np\n",
        "import pandas as pd\n",
        "from datetime import datetime\n",
        "from keras.models import Sequential\n",
        "from keras.layers import LSTM, Dense, Dropout\n",
        "from keras.layers import LeakyReLU\n",
        "from keras.utils import plot_model\n",
        "from keras import optimizers\n",
        "from keras import backend\n",
        "import numpy as np\n",
        "import matplotlib.pyplot as plt\n",
        "from math import sin, cos, sqrt, atan2, radians"
      ],
      "metadata": {
        "id": "f_ZqOTkNNOt_"
      },
      "execution_count": null,
      "outputs": []
    },
    {
      "cell_type": "code",
      "source": [
        "#from google.colab import drive\n",
        "#drive.mount('/content/drive')"
      ],
      "metadata": {
        "colab": {
          "base_uri": "https://localhost:8080/"
        },
        "id": "ha0_dm-D-g5G",
        "outputId": "975695e3-081f-4b28-ac6f-ac2c634e46b6"
      },
      "execution_count": null,
      "outputs": [
        {
          "output_type": "stream",
          "name": "stdout",
          "text": [
            "Drive already mounted at /content/drive; to attempt to forcibly remount, call drive.mount(\"/content/drive\", force_remount=True).\n"
          ]
        }
      ]
    },
    {
      "cell_type": "code",
      "source": [
        "# pull only specific columns out\n",
        "\n",
        "# 'Timestamp', 'MMSI', 'Latitude', 'Longitude', 'SOG', 'COG'\n",
        "fields = [1, 0, 2, 3, 4, 5]\n",
        "n_rows = 50000            # Pulls this many rows of data, because all of it is too much\n",
        "df = pd.read_csv('/content/drive/MyDrive/data/data.csv', skipinitialspace=True, usecols=fields, nrows=n_rows)\n",
        "\n",
        "# get rid of nan rows (in speed and course) - could just set to -1\n",
        "df = df.dropna()\n",
        "\n",
        "# sort by MMSI, then by time/date\n",
        "df = df.sort_values(by=['MMSI', 'BaseDateTime'], ascending=True)\n",
        "\n",
        "# Filter data so that only groups who have 4 or more Rows are shown\n",
        "# Extract the first 4 rows per group\n",
        "df = df.groupby(['MMSI']).filter(lambda x: len(x) >= 4)\n",
        "\n",
        "# change dataframe to numpy array\n",
        "df = df.values\n",
        "\n",
        "\n",
        "# new number of rows and columns\n",
        "n_rows, n_cols = df.shape"
      ],
      "metadata": {
        "id": "PQIjvpz9CvJh",
        "colab": {
          "base_uri": "https://localhost:8080/"
        },
        "outputId": "10f49592-1751-4ff8-b691-5aeb7ef537f7"
      },
      "execution_count": null,
      "outputs": [
        {
          "output_type": "stream",
          "name": "stderr",
          "text": [
            "<ipython-input-3-62f9d8504c30>:5: DtypeWarning: Columns (3,4) have mixed types. Specify dtype option on import or set low_memory=False.\n",
            "  df = pd.read_csv('/content/drive/MyDrive/data/data.csv', skipinitialspace=True, usecols=fields, nrows=n_rows)\n"
          ]
        }
      ]
    },
    {
      "cell_type": "code",
      "source": [
        "#Converts timestamp to integer for each row\n",
        "for i in range(n_rows):\n",
        "    df[i][1] = int(df[i][1][11:13])*3600 + int(df[i][1][14:16])*60 + int(df[i][1][17:])\n"
      ],
      "metadata": {
        "id": "7BvoJv3wHS1d"
      },
      "execution_count": null,
      "outputs": []
    },
    {
      "cell_type": "code",
      "source": [
        "# create timedeltas\n",
        "i = 0\n",
        "while i in range(n_rows):\n",
        "    end = False\n",
        "    temp = []\n",
        "    start = i\n",
        "    try:\n",
        "        while df[i+1][0] == df[i][0]:\n",
        "            temp.append(df[i][1])\n",
        "            i += 1\n",
        "            end = True\n",
        "    except: pass\n",
        "\n",
        "    if end is True:\n",
        "        temp.append(df[i][1])\n",
        "        diff_array = np.diff(temp)\n",
        "\n",
        "        df[start][1] = 0\n",
        "        df[start+1:i+1, 1] = diff_array\n",
        "    i += 1"
      ],
      "metadata": {
        "id": "MUM1GeQMHrJM"
      },
      "execution_count": null,
      "outputs": []
    },
    {
      "cell_type": "code",
      "source": [
        "#np.savez('/content/drive/MyDrive/data/SortedData.npz', sorted_data=df)"
      ],
      "metadata": {
        "id": "qfoJ2PXzxJf7"
      },
      "execution_count": null,
      "outputs": []
    },
    {
      "cell_type": "code",
      "source": [
        "MMSI_Values = df[:, 0]\n",
        "unique_MMSI, count_unique = np.unique(MMSI_Values, return_counts=True)"
      ],
      "metadata": {
        "id": "RaDqA6Q1Fs14"
      },
      "execution_count": null,
      "outputs": []
    },
    {
      "cell_type": "code",
      "source": [
        "i = 0\n",
        "\n",
        "for count, k in enumerate(MMSI_Values):\n",
        "    try:\n",
        "        if MMSI_Values[count + 3] == k:\n",
        "            i+=1\n",
        "    except:\n",
        "        pass\n",
        "SizeOfTrain = i"
      ],
      "metadata": {
        "id": "Pryc1XigtqS8"
      },
      "execution_count": null,
      "outputs": []
    },
    {
      "cell_type": "code",
      "source": [
        "x_train = np.empty([SizeOfTrain, 3, 6])\n",
        "y_train = np.empty([SizeOfTrain, 6])"
      ],
      "metadata": {
        "id": "d4jbQCyFvkk0"
      },
      "execution_count": null,
      "outputs": []
    },
    {
      "cell_type": "code",
      "source": [
        "i = 0\n",
        "for count, k in enumerate(MMSI_Values):\n",
        "  try:\n",
        "    if MMSI_Values[count + 3] == k:\n",
        "      y_train[i][:] = df[count + 0][:]\n",
        "      x_train[i][0][:] = df[count + 1][:]\n",
        "      x_train[i][1][:] = df[count + 2][:]\n",
        "      x_train[i][2][:] = df[count + 3][:]\n",
        "      i += 1\n",
        "  except:\n",
        "    pass"
      ],
      "metadata": {
        "id": "PqB9HJ9Qpco7"
      },
      "execution_count": null,
      "outputs": []
    },
    {
      "cell_type": "code",
      "source": [
        "#Remove MMSI for train data and everything but lat and long for target data\n",
        "x_train = x_train[0:i-1, :, [1,2,3,4,5]] #Remove MMSI\n",
        "y_train = y_train[0:i-1, [2,3]] #Keep longitude and latitude"
      ],
      "metadata": {
        "id": "4q3tyS_GiaX3"
      },
      "execution_count": null,
      "outputs": []
    },
    {
      "cell_type": "code",
      "source": [
        "# splice data for training and testing\n",
        "train_length = int(i * 0.8)\n",
        "y_test = y_train[train_length:, :]\n",
        "x_test = x_train[train_length:, :, :]\n",
        "\n",
        "y_train = y_train[:train_length + 1, :]\n",
        "x_train = x_train[:train_length + 1, :, :]"
      ],
      "metadata": {
        "id": "FRN4p_BsTIj-"
      },
      "execution_count": null,
      "outputs": []
    },
    {
      "cell_type": "code",
      "source": [
        "NUM_EPOCHS = 50                 # Number of Epochs to Train Over\n",
        "BATCH_SIZE = 10                 # Number of batches\n",
        "\n",
        "num_features = 5       # The data we are submitting per time step (lat, long, speed, time, course)\n",
        "num_timesteps = 3       # The number of time steps per sequence (track)"
      ],
      "metadata": {
        "id": "xE7M9mAqIJ22"
      },
      "execution_count": null,
      "outputs": []
    },
    {
      "cell_type": "code",
      "source": [
        "# Defining Layers\n",
        "model = Sequential()\n",
        "model.add(LSTM(32, return_sequences=True, input_shape=(num_timesteps, num_features)))\n",
        "model.add(LSTM(16, return_sequences=True))\n",
        "model.add(LSTM(8))\n",
        "model.add(LeakyReLU(alpha=0.01))\n",
        "model.add(Dense(2))"
      ],
      "metadata": {
        "id": "9ulMnvC_IOow"
      },
      "execution_count": null,
      "outputs": []
    },
    {
      "cell_type": "code",
      "source": [
        "model.compile(loss='mean_squared_error', optimizer='adam')\n"
      ],
      "metadata": {
        "id": "VX-1MSslNidA"
      },
      "execution_count": null,
      "outputs": []
    },
    {
      "cell_type": "code",
      "source": [
        "print(model.summary())"
      ],
      "metadata": {
        "colab": {
          "base_uri": "https://localhost:8080/"
        },
        "id": "hOQ-2qm5JihJ",
        "outputId": "a3d24854-e9a9-4bf6-e609-670b604a8024"
      },
      "execution_count": null,
      "outputs": [
        {
          "output_type": "stream",
          "name": "stdout",
          "text": [
            "Model: \"sequential\"\n",
            "_________________________________________________________________\n",
            " Layer (type)                Output Shape              Param #   \n",
            "=================================================================\n",
            " lstm (LSTM)                 (None, 3, 32)             4864      \n",
            "                                                                 \n",
            " lstm_1 (LSTM)               (None, 3, 16)             3136      \n",
            "                                                                 \n",
            " lstm_2 (LSTM)               (None, 8)                 800       \n",
            "                                                                 \n",
            " leaky_re_lu (LeakyReLU)     (None, 8)                 0         \n",
            "                                                                 \n",
            " dense (Dense)               (None, 2)                 18        \n",
            "                                                                 \n",
            "=================================================================\n",
            "Total params: 8818 (34.45 KB)\n",
            "Trainable params: 8818 (34.45 KB)\n",
            "Non-trainable params: 0 (0.00 Byte)\n",
            "_________________________________________________________________\n",
            "None\n"
          ]
        }
      ]
    },
    {
      "cell_type": "code",
      "source": [
        "# Fit the Model\n",
        "history = model.fit(x_train, y_train, batch_size=BATCH_SIZE, epochs=NUM_EPOCHS, validation_split=0.20)"
      ],
      "metadata": {
        "id": "k5YNTyKfLEJT"
      },
      "execution_count": null,
      "outputs": []
    },
    {
      "cell_type": "code",
      "source": [
        "#Evaluate the Model\n",
        "scores = model.evaluate(x_train, y_train)\n",
        "print('\\n%s: %f\\n' % (\"mse\", scores))"
      ],
      "metadata": {
        "colab": {
          "base_uri": "https://localhost:8080/"
        },
        "id": "tj5JNLUrOM2G",
        "outputId": "e4a294bb-52ea-45e1-a9a9-f4cacd281f25"
      },
      "execution_count": null,
      "outputs": [
        {
          "output_type": "stream",
          "name": "stdout",
          "text": [
            "511/511 [==============================] - 3s 5ms/step - loss: 2.5005\n",
            "\n",
            "mse: 2.500487\n",
            "\n"
          ]
        }
      ]
    },
    {
      "cell_type": "code",
      "source": [
        "# summarize history for loss\n",
        "plt.figure(1)\n",
        "plt.plot(history.history['loss'])\n",
        "plt.plot(history.history['val_loss'])\n",
        "\n",
        "plt.title('AIS: Model Loss')\n",
        "plt.ylabel('Loss')\n",
        "plt.xlabel('Epoch')\n",
        "plt.legend(['Training', 'Validation'], loc='upper right')\n",
        "plt.show()"
      ],
      "metadata": {
        "colab": {
          "base_uri": "https://localhost:8080/",
          "height": 472
        },
        "id": "LlUhCgsiPrvg",
        "outputId": "0313d8a4-4f2d-465d-9ad9-2ae69385a8c8"
      },
      "execution_count": null,
      "outputs": [
        {
          "output_type": "display_data",
          "data": {
            "text/plain": [
              "<Figure size 640x480 with 1 Axes>"
            ],
            "image/png": "[encoded data removed]"
          },
          "metadata": {}
        }
      ]
    },
    {
      "cell_type": "code",
      "source": [
        "prediction = model.predict(x_test)"
      ],
      "metadata": {
        "colab": {
          "base_uri": "https://localhost:8080/"
        },
        "id": "20CR9NynR016",
        "outputId": "5cdbf14a-968d-45af-b030-b11b6baf30e8"
      },
      "execution_count": null,
      "outputs": [
        {
          "output_type": "stream",
          "name": "stdout",
          "text": [
            "128/128 [==============================] - 2s 3ms/step\n"
          ]
        }
      ]
    },
    {
      "cell_type": "code",
      "source": [
        "#y_test"
      ],
      "metadata": {
        "id": "YvYq74GeyZxN"
      },
      "execution_count": null,
      "outputs": []
    },
    {
      "cell_type": "code",
      "source": [
        "#prediction"
      ],
      "metadata": {
        "id": "i6lrHvqWu89r"
      },
      "execution_count": null,
      "outputs": []
    },
    {
      "cell_type": "code",
      "source": [
        "from math import sin, cos, sqrt, atan2\n",
        "\n",
        "import math\n",
        "\n",
        "def Distance(prediction, target):\n",
        "\n",
        "    \"\"\"\n",
        "    Calculate the great circle distance between two points\n",
        "    on the earth (specified in decimal degrees)\n",
        "    \"\"\"\n",
        "\n",
        "    lat1 = prediction[0]\n",
        "    lon1 = prediction[1]\n",
        "    lat2 = target[0]\n",
        "    lon2 = target[1]\n",
        "\n",
        "    # Convert decimal degrees to radians\n",
        "    lat1, lon1, lat2, lon2 = map(math.radians, [lat1, lon1, lat2, lon2])\n",
        "\n",
        "    # Haversine formula\n",
        "    dlat = lat2 - lat1\n",
        "    dlon = lon2 - lon1\n",
        "    a = math.sin(dlat/2)**2 + math.cos(lat1) * math.cos(lat2) * math.sin(dlon/2)**2\n",
        "    c = 2 * math.atan2(math.sqrt(a), math.sqrt(1-a))\n",
        "    r = 6371.0 # Radius of earth in kilometers. Use 3956 for miles\n",
        "    return c * r\n"
      ],
      "metadata": {
        "id": "kufYNDOe2Ezk"
      },
      "execution_count": null,
      "outputs": []
    },
    {
      "cell_type": "code",
      "source": [
        "DistanceErrors = []\n",
        "\n",
        "for x in range(len(prediction)):\n",
        "  DistanceErrors.append(Distance(prediction[x], y_test[x]))"
      ],
      "metadata": {
        "id": "e7LxHN11DtkO"
      },
      "execution_count": null,
      "outputs": []
    },
    {
      "cell_type": "code",
      "source": [
        "DistanceErrors"
      ],
      "metadata": {
        "id": "U_QcMKnzRqPi"
      },
      "execution_count": null,
      "outputs": []
    },
    {
      "cell_type": "code",
      "source": [
        "def Average(lst):\n",
        "    return sum(lst) / len(lst)"
      ],
      "metadata": {
        "id": "lJ0ECV0hUmMv"
      },
      "execution_count": null,
      "outputs": []
    },
    {
      "cell_type": "code",
      "source": [
        "Average(DistanceErrors)"
      ],
      "metadata": {
        "id": "7gEn2qFWUv7s",
        "outputId": "88ca4370-4acf-46d1-d9a2-ad4c91c03199",
        "colab": {
          "base_uri": "https://localhost:8080/"
        }
      },
      "execution_count": null,
      "outputs": [
        {
          "output_type": "execute_result",
          "data": {
            "text/plain": [
              "98.78943053581837"
            ]
          },
          "metadata": {},
          "execution_count": 121
        }
      ]
    }
  ]
}